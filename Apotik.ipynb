{
 "cells": [
  {
   "cell_type": "code",
   "execution_count": 34,
   "metadata": {},
   "outputs": [],
   "source": [
    "import pandas as pd    \n",
    "import numpy as np\n",
    "import nltk\n",
    "import string\n",
    "from sklearn import model_selection \n",
    "from sklearn.preprocessing import LabelEncoder\n",
    "from sklearn.metrics import accuracy_score, f1_score\n",
    "from sklearn.feature_extraction.text import CountVectorizer\n",
    "from sklearn.feature_extraction.text import TfidfTransformer\n",
    "from sklearn.model_selection import train_test_split\n",
    "from sklearn.naive_bayes import MultinomialNB\n",
    "from sklearn.neighbors import KNeighborsClassifier\n",
    "from sklearn.tree import DecisionTreeClassifier\n",
    "from sklearn.ensemble import RandomForestClassifier\n",
    "from sklearn.linear_model import LogisticRegression\n",
    "from sklearn.svm import SVC\n",
    "from sklearn.neural_network import MLPClassifier\n",
    "from sklearn import tree\n",
    "from sklearn.tree import plot_tree\n",
    "from sklearn.metrics import classification_report , accuracy_score , confusion_matrix\n",
    "import seaborn as sns\n",
    "import matplotlib.pyplot as plt"
   ]
  },
  {
   "cell_type": "code",
   "execution_count": 35,
   "metadata": {},
   "outputs": [
    {
     "name": "stdout",
     "output_type": "stream",
     "text": [
      "     ID Obat      Nama Obat      Jenis Obat Bentuk Obat Kategori Obat   Dosis  \\\n",
      "0          1   Atorvastatin     Antipiretik       Sirup   Tradisional   10 mg   \n",
      "1          2     Omeprazole  Antihipertensi      Kapsul         Resep   50 mg   \n",
      "2          3     Amlodipine      Antibiotik      Kapsul         Resep  100 mg   \n",
      "3          4  Ciprofloxacin      Antibiotik      Tablet        Herbal   10 mg   \n",
      "4          5   Atorvastatin       Analgesik       Sirup         Resep   10 mg   \n",
      "..       ...            ...             ...         ...           ...     ...   \n",
      "995      996    Paracetamol   Antiinflamasi       Salep         Resep   10 mg   \n",
      "996      997     Lisinopril   Antiinflamasi      Kapsul   Tradisional  100 mg   \n",
      "997      998     Amlodipine   Antiinflamasi      Tablet         Resep    5 mg   \n",
      "998      999      Ibuprofen     Antipiretik       Sirup         Resep  100 mg   \n",
      "999     1000   Atorvastatin      Antibiotik       Sirup   Tradisional  100 mg   \n",
      "\n",
      "     Harga Tanggal Expired  Jumlah Stok  Permintaan Bulanan  \\\n",
      "0     5000      2026-02-20          200                  20   \n",
      "1    25000      2025-07-14           10                  30   \n",
      "2    10000      2024-11-23          100                   5   \n",
      "3     5000      2025-12-22          100                  30   \n",
      "4     5000      2024-12-13           10                  30   \n",
      "..     ...             ...          ...                 ...   \n",
      "995   5000      2026-07-13           10                   5   \n",
      "996  20000      2024-11-10          100                   5   \n",
      "997  10000      2025-03-07           50                  30   \n",
      "998   5000      2024-08-06          500                  20   \n",
      "999  10000      2024-08-14           30                  30   \n",
      "\n",
      "     Waktu Reorder (hari)  Jumlah Reorder Penjualan  \n",
      "0                      30              30     Tidak  \n",
      "1                      30             300        Ya  \n",
      "2                      15             100     Tidak  \n",
      "3                      45              50     Tidak  \n",
      "4                       7              20        Ya  \n",
      "..                    ...             ...       ...  \n",
      "995                    15              50     Tidak  \n",
      "996                    15             500        Ya  \n",
      "997                    30              20        Ya  \n",
      "998                     7              10        Ya  \n",
      "999                     7             200        Ya  \n",
      "\n",
      "[1000 rows x 13 columns]\n"
     ]
    }
   ],
   "source": [
    "# text preproprocessing\n",
    "filecsv = 'dataset_apotik.csv'\n",
    "teks = pd.read_csv(filecsv, header = 0, delimiter = ';', encoding ='utf-8')\n",
    "df = pd.DataFrame(teks)\n",
    "print(df)"
   ]
  },
  {
   "cell_type": "code",
   "execution_count": 36,
   "metadata": {},
   "outputs": [
    {
     "name": "stdout",
     "output_type": "stream",
     "text": [
      "     ID Obat      Nama Obat      Jenis Obat Bentuk Obat Kategori Obat   Dosis  \\\n",
      "0          1   Atorvastatin     Antipiretik       Sirup   Tradisional   10 mg   \n",
      "1          2     Omeprazole  Antihipertensi      Kapsul         Resep   50 mg   \n",
      "2          3     Amlodipine      Antibiotik      Kapsul         Resep  100 mg   \n",
      "3          4  Ciprofloxacin      Antibiotik      Tablet        Herbal   10 mg   \n",
      "4          5   Atorvastatin       Analgesik       Sirup         Resep   10 mg   \n",
      "..       ...            ...             ...         ...           ...     ...   \n",
      "995      996    Paracetamol   Antiinflamasi       Salep         Resep   10 mg   \n",
      "996      997     Lisinopril   Antiinflamasi      Kapsul   Tradisional  100 mg   \n",
      "997      998     Amlodipine   Antiinflamasi      Tablet         Resep    5 mg   \n",
      "998      999      Ibuprofen     Antipiretik       Sirup         Resep  100 mg   \n",
      "999     1000   Atorvastatin      Antibiotik       Sirup   Tradisional  100 mg   \n",
      "\n",
      "     Harga Tanggal Expired  Jumlah Stok  Permintaan Bulanan  \\\n",
      "0     5000      2026-02-20          200                  20   \n",
      "1    25000      2025-07-14           10                  30   \n",
      "2    10000      2024-11-23          100                   5   \n",
      "3     5000      2025-12-22          100                  30   \n",
      "4     5000      2024-12-13           10                  30   \n",
      "..     ...             ...          ...                 ...   \n",
      "995   5000      2026-07-13           10                   5   \n",
      "996  20000      2024-11-10          100                   5   \n",
      "997  10000      2025-03-07           50                  30   \n",
      "998   5000      2024-08-06          500                  20   \n",
      "999  10000      2024-08-14           30                  30   \n",
      "\n",
      "     Waktu Reorder (hari)  Jumlah Reorder  \n",
      "0                      30              30  \n",
      "1                      30             300  \n",
      "2                      15             100  \n",
      "3                      45              50  \n",
      "4                       7              20  \n",
      "..                    ...             ...  \n",
      "995                    15              50  \n",
      "996                    15             500  \n",
      "997                    30              20  \n",
      "998                     7              10  \n",
      "999                     7             200  \n",
      "\n",
      "[1000 rows x 12 columns]\n",
      "0      Tidak\n",
      "1         Ya\n",
      "2      Tidak\n",
      "3      Tidak\n",
      "4         Ya\n",
      "       ...  \n",
      "995    Tidak\n",
      "996       Ya\n",
      "997       Ya\n",
      "998       Ya\n",
      "999       Ya\n",
      "Name: Penjualan, Length: 1000, dtype: object\n"
     ]
    }
   ],
   "source": [
    "xTarget = df.drop(['Penjualan'],axis = 1)\n",
    "print(xTarget)\n",
    "\n",
    "yTarget = df['Penjualan']\n",
    "print(yTarget)"
   ]
  },
  {
   "cell_type": "code",
   "execution_count": 37,
   "metadata": {},
   "outputs": [
    {
     "name": "stdout",
     "output_type": "stream",
     "text": [
      "(1000, 1)\n",
      "(1000, 12)\n"
     ]
    },
    {
     "data": {
      "text/plain": [
       "array([[  0.,   2.,   4., ...,   3.,   2.,   2.],\n",
       "       [  1.,   7.,   2., ...,   4.,   2.,   6.],\n",
       "       [  2.,   0.,   1., ...,   0.,   1.,   4.],\n",
       "       ...,\n",
       "       [997.,   0.,   3., ...,   4.,   2.,   1.],\n",
       "       [998.,   4.,   4., ...,   3.,   0.,   0.],\n",
       "       [999.,   2.,   1., ...,   4.,   0.,   5.]])"
      ]
     },
     "execution_count": 37,
     "metadata": {},
     "output_type": "execute_result"
    }
   ],
   "source": [
    "# #merubah yes / no menjadi angka 0 dan 1\n",
    "from sklearn.preprocessing import LabelBinarizer, OrdinalEncoder\n",
    "encoder = LabelBinarizer()\n",
    "Y = encoder.fit_transform(yTarget)\n",
    "print(Y.shape)\n",
    "\n",
    "# #mengkodekan semua value menjadi ordinal\n",
    "tfidf_transformer = OrdinalEncoder()\n",
    "X = tfidf_transformer.fit_transform(xTarget)\n",
    "print(X.shape)\n",
    "\n",
    "X"
   ]
  },
  {
   "cell_type": "code",
   "execution_count": 38,
   "metadata": {},
   "outputs": [],
   "source": [
    "X_train, X_test, y_train, y_test = train_test_split(X, Y, test_size = 0.3, random_state = 1)"
   ]
  },
  {
   "cell_type": "code",
   "execution_count": 45,
   "metadata": {},
   "outputs": [
    {
     "name": "stdout",
     "output_type": "stream",
     "text": [
      "0.5266666666666666\n",
      "Akurasi pada Algoritma Decision Tree menggunakan Hold-out dengan persentase 70:30 = 52.666666666666664\n"
     ]
    }
   ],
   "source": [
    "from sklearn.tree import DecisionTreeClassifier\n",
    "from sklearn.metrics import accuracy_score\n",
    "import pickle\n",
    "\n",
    "# Fit the Decision Tree model\n",
    "model = DecisionTreeClassifier().fit(X_train, np.ravel(y_train, order='C'))\n",
    "prediction = model.predict(X_test)\n",
    "\n",
    "# Calculate and print the accuracy\n",
    "accuracies = accuracy_score(y_test, prediction)\n",
    "print(accuracies)\n",
    "\n",
    "accuracies = accuracy_score(y_test, prediction) * 100\n",
    "print('Akurasi pada Algoritma Decision Tree menggunakan Hold-out dengan persentase 70:30 = %s' % accuracies)\n",
    "\n",
    "# Save the model to a file\n",
    "filename = './apotekmodel_decision_tree.pkl'\n",
    "pickle.dump(model, open(filename, 'wb'))\n"
   ]
  },
  {
   "cell_type": "code",
   "execution_count": 40,
   "metadata": {},
   "outputs": [
    {
     "name": "stdout",
     "output_type": "stream",
     "text": [
      "0.5066666666666667\n"
     ]
    }
   ],
   "source": [
    "import pickle\n",
    "model = KNeighborsClassifier().fit(X_train,np.ravel(y_train,order='C'))\n",
    "prediction = model.predict(X_test)\n",
    "accuracies = accuracy_score(y_test, prediction)\n",
    "print(accuracies)\n",
    "\n",
    "filename = './apotekmodelmodel.pkl'\n",
    "pickle.dump(model, open(filename, 'wb'))"
   ]
  }
 ],
 "metadata": {
  "kernelspec": {
   "display_name": "Python 3",
   "language": "python",
   "name": "python3"
  },
  "language_info": {
   "codemirror_mode": {
    "name": "ipython",
    "version": 3
   },
   "file_extension": ".py",
   "mimetype": "text/x-python",
   "name": "python",
   "nbconvert_exporter": "python",
   "pygments_lexer": "ipython3",
   "version": "3.12.2"
  }
 },
 "nbformat": 4,
 "nbformat_minor": 2
}
